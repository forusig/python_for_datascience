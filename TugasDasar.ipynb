{
  "nbformat": 4,
  "nbformat_minor": 0,
  "metadata": {
    "colab": {
      "provenance": [],
      "include_colab_link": true
    },
    "kernelspec": {
      "name": "python3",
      "display_name": "Python 3"
    },
    "language_info": {
      "name": "python"
    }
  },
  "cells": [
    {
      "cell_type": "markdown",
      "metadata": {
        "id": "view-in-github",
        "colab_type": "text"
      },
      "source": [
        "<a href=\"https://colab.research.google.com/github/forusig/python_for_datascience/blob/main/TugasDasar.ipynb\" target=\"_parent\"><img src=\"https://colab.research.google.com/assets/colab-badge.svg\" alt=\"Open In Colab\"/></a>"
      ]
    },
    {
      "cell_type": "code",
      "execution_count": null,
      "metadata": {
        "colab": {
          "base_uri": "https://localhost:8080/"
        },
        "id": "c_azmGKI6Qj2",
        "outputId": "e0760c78-71c4-44b4-e866-f13851d67be6"
      },
      "outputs": [
        {
          "output_type": "stream",
          "name": "stdout",
          "text": [
            "Bilgis\n",
            "20\n",
            "60\n",
            "True\n"
          ]
        }
      ],
      "source": [
        "# Variabel dengan berbagai tipe data\n",
        "nama = \"Bilgis\"          # String\n",
        "umur = 20                # Integer\n",
        "bb = 60                  # Float\n",
        "aktif = True             # Boolean\n",
        "\n",
        "print(nama)\n",
        "print(umur)\n",
        "print(bb)\n",
        "print(aktif)"
      ]
    },
    {
      "cell_type": "code",
      "source": [
        "# Operasi aritmatika sederhana\n",
        "a = 10\n",
        "b = 5\n",
        "penjumlahan = a + b\n",
        "pengurangan = a - b\n",
        "perkalian = a * b\n",
        "pembagian = a / b\n",
        "modulus = a % b\n",
        "\n",
        "print(penjumlahan)\n",
        "print(pengurangan)\n",
        "print(perkalian)\n",
        "print(pembagian)\n",
        "print(modulus)"
      ],
      "metadata": {
        "colab": {
          "base_uri": "https://localhost:8080/"
        },
        "id": "jpv1HhQf6Yrr",
        "outputId": "e6dd2ade-a866-4af0-d30c-0797fc7d4f94"
      },
      "execution_count": null,
      "outputs": [
        {
          "output_type": "stream",
          "name": "stdout",
          "text": [
            "15\n",
            "5\n",
            "50\n",
            "2.0\n",
            "0\n"
          ]
        }
      ]
    },
    {
      "cell_type": "code",
      "source": [
        "# Manipulasi string\n",
        "teks = \"Hello world\"\n",
        "teks_baru = teks.replace(\"world\", \"Python\")\n",
        "teks_upper = teks.upper()\n",
        "teks_lower = teks.lower()\n",
        "\n",
        "print(teks_baru)\n",
        "print(teks_upper)\n",
        "print(teks_lower)"
      ],
      "metadata": {
        "colab": {
          "base_uri": "https://localhost:8080/"
        },
        "id": "3DpbnVWu6eHs",
        "outputId": "c9bff644-2c25-4cf6-a4aa-4428f361a2e3"
      },
      "execution_count": null,
      "outputs": [
        {
          "output_type": "stream",
          "name": "stdout",
          "text": [
            "Hello Python\n",
            "HELLO WORLD\n",
            "hello world\n"
          ]
        }
      ]
    },
    {
      "cell_type": "code",
      "source": [
        "# Type casting (konversi tipe data)\n",
        "x = \"100\"\n",
        "y = int(x)\n",
        "z = float(x)\n",
        "\n",
        "print(y)\n",
        "print(z)"
      ],
      "metadata": {
        "colab": {
          "base_uri": "https://localhost:8080/"
        },
        "id": "btmO9X0W6fYT",
        "outputId": "ad167bde-c4bd-4780-b68b-796c79cf7133"
      },
      "execution_count": null,
      "outputs": [
        {
          "output_type": "stream",
          "name": "stdout",
          "text": [
            "100\n",
            "100.0\n"
          ]
        }
      ]
    },
    {
      "cell_type": "code",
      "source": [
        "no = \"+62801-0029-9000\"\n",
        "\n",
        "# Ganti \"+62\" dengan \"0\" dan hilangkan tanda \"-\"\n",
        "no_new = no.replace(\"+62\", \"0\").replace(\"-\", \"\")\n",
        "print(no_new)\n"
      ],
      "metadata": {
        "colab": {
          "base_uri": "https://localhost:8080/"
        },
        "id": "_ImSLtsx6kAv",
        "outputId": "4b0e09f0-03da-4686-d87a-b781edd140fd"
      },
      "execution_count": null,
      "outputs": [
        {
          "output_type": "stream",
          "name": "stdout",
          "text": [
            "080100299000\n"
          ]
        }
      ]
    }
  ]
}