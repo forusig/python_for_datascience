{
  "nbformat": 4,
  "nbformat_minor": 0,
  "metadata": {
    "colab": {
      "provenance": [],
      "include_colab_link": true
    },
    "kernelspec": {
      "name": "python3",
      "display_name": "Python 3"
    },
    "language_info": {
      "name": "python"
    }
  },
  "cells": [
    {
      "cell_type": "markdown",
      "metadata": {
        "id": "view-in-github",
        "colab_type": "text"
      },
      "source": [
        "<a href=\"https://colab.research.google.com/github/forusig/python_for_datascience/blob/main/Tugas.ipynb\" target=\"_parent\"><img src=\"https://colab.research.google.com/assets/colab-badge.svg\" alt=\"Open In Colab\"/></a>"
      ]
    },
    {
      "cell_type": "code",
      "source": [
        "gaji_per_jam = float(input(\"Masukkan gaji per jam dalam rupiah: \"))\n",
        "jam_kerja_per_minggu = int(input(\"Masukkan jumlah jam kerja per minggu: \"))\n",
        "minggu = int(input(\"Masukkan lama liburan dalam minggu: \"))"
      ],
      "metadata": {
        "colab": {
          "base_uri": "https://localhost:8080/"
        },
        "id": "v2xvFElvRaFm",
        "outputId": "88c7938e-ee94-455e-bb22-8bd5742cd3a8"
      },
      "execution_count": 1,
      "outputs": [
        {
          "name": "stdout",
          "output_type": "stream",
          "text": [
            "Masukkan gaji per jam dalam rupiah: 50000\n",
            "Masukkan jumlah jam kerja per minggu: 8\n",
            "Masukkan lama liburan dalam minggu: 5\n"
          ]
        }
      ]
    },
    {
      "cell_type": "code",
      "source": [
        "pajak = 0.14\n",
        "persentase_baju_aksesoris = 0.10\n",
        "persentase_alat_tulis = 0.01\n",
        "persentase_sedekah = 0.25\n",
        "persentase_yatim = 0.30"
      ],
      "metadata": {
        "id": "tVppkfFbQfP9"
      },
      "execution_count": 2,
      "outputs": []
    },
    {
      "cell_type": "code",
      "source": [
        "# 1. Pendapatan sebelum pajak\n",
        "pendapatan_sebelum_pajak = gaji_per_jam * jam_kerja_per_minggu * minggu\n",
        "print(\"1. Pendapatan sebelum pajak: Rp\", pendapatan_sebelum_pajak)"
      ],
      "metadata": {
        "id": "HNGcJRd1Syub",
        "outputId": "08ce0db2-d0d2-44c6-e94e-e0d92d287dc4",
        "colab": {
          "base_uri": "https://localhost:8080/"
        }
      },
      "execution_count": 3,
      "outputs": [
        {
          "output_type": "stream",
          "name": "stdout",
          "text": [
            "1. Pendapatan sebelum pajak: Rp 2000000.0\n"
          ]
        }
      ]
    },
    {
      "cell_type": "code",
      "source": [
        "# 2. Pendapatan setelah pajak\n",
        "pendapatan_setelah_pajak = pendapatan_sebelum_pajak * (1 - pajak)\n",
        "print(\"2. Pendapatan setelah pajak: Rp\", pendapatan_setelah_pajak)"
      ],
      "metadata": {
        "id": "egu92neDS3k-",
        "outputId": "385e7267-91d9-41f6-cc2c-41c7ecdb270b",
        "colab": {
          "base_uri": "https://localhost:8080/"
        }
      },
      "execution_count": 4,
      "outputs": [
        {
          "output_type": "stream",
          "name": "stdout",
          "text": [
            "2. Pendapatan setelah pajak: Rp 1720000.0\n"
          ]
        }
      ]
    },
    {
      "cell_type": "code",
      "source": [
        "# 3. Pengeluaran untuk baju dan aksesoris\n",
        "pengeluaran_baju_aksesoris = pendapatan_setelah_pajak * persentase_baju_aksesoris\n",
        "print(\"3. Pengeluaran untuk baju dan aksesoris: Rp\", pengeluaran_baju_aksesoris)"
      ],
      "metadata": {
        "id": "HYwuuVT2S74G",
        "outputId": "da5fe6c9-7f86-4c83-9581-23992589dc32",
        "colab": {
          "base_uri": "https://localhost:8080/"
        }
      },
      "execution_count": 5,
      "outputs": [
        {
          "output_type": "stream",
          "name": "stdout",
          "text": [
            "3. Pengeluaran untuk baju dan aksesoris: Rp 172000.0\n"
          ]
        }
      ]
    },
    {
      "cell_type": "code",
      "source": [
        "# 4. Pengeluaran untuk alat tulis\n",
        "pengeluaran_alat_tulis = pendapatan_setelah_pajak * persentase_alat_tulis\n",
        "print(\"4. Pengeluaran untuk alat tulis: Rp\", pengeluaran_alat_tulis)"
      ],
      "metadata": {
        "id": "LLn3cqjQTFVC",
        "outputId": "aea58f2a-b17f-4b69-f868-3c0f96b6b99b",
        "colab": {
          "base_uri": "https://localhost:8080/"
        }
      },
      "execution_count": 6,
      "outputs": [
        {
          "output_type": "stream",
          "name": "stdout",
          "text": [
            "4. Pengeluaran untuk alat tulis: Rp 17200.0\n"
          ]
        }
      ]
    },
    {
      "cell_type": "code",
      "source": [
        "# Uang yang tersisa setelah pengeluaran baju, aksesoris, dan alat tulis\n",
        "sisa_uang = pendapatan_setelah_pajak - (pengeluaran_baju_aksesoris + pengeluaran_alat_tulis)\n",
        "print(\"Uang yang tersisa setelah pengeluaran baju, aksesoris, dan alat tulis: Rp\", sisa_uang)"
      ],
      "metadata": {
        "id": "a2FZSx4VTHLq",
        "outputId": "165e5383-1f33-45ed-a691-2b52b349add9",
        "colab": {
          "base_uri": "https://localhost:8080/"
        }
      },
      "execution_count": 7,
      "outputs": [
        {
          "output_type": "stream",
          "name": "stdout",
          "text": [
            "Uang yang tersisa setelah pengeluaran baju, aksesoris, dan alat tulis: Rp 1530800.0\n"
          ]
        }
      ]
    },
    {
      "cell_type": "code",
      "source": [
        "# 5. Jumlah uang untuk sedekah\n",
        "jumlah_sedekah = sisa_uang * persentase_sedekah\n",
        "print(\"5. Jumlah uang untuk sedekah: Rp\", jumlah_sedekah)"
      ],
      "metadata": {
        "id": "zAZ0-j1cTMVA",
        "outputId": "4e6bc950-0516-4dd8-d8ac-8351a3d340ca",
        "colab": {
          "base_uri": "https://localhost:8080/"
        }
      },
      "execution_count": 8,
      "outputs": [
        {
          "output_type": "stream",
          "name": "stdout",
          "text": [
            "5. Jumlah uang untuk sedekah: Rp 382700.0\n"
          ]
        }
      ]
    },
    {
      "cell_type": "code",
      "source": [
        "# 6. Jumlah uang untuk anak yatim\n",
        "uang_anak_yatim = jumlah_sedekah * persentase_yatim\n",
        "print(\"6. Jumlah uang untuk anak yatim: Rp\", uang_anak_yatim)"
      ],
      "metadata": {
        "id": "jcM92Gm4TOil",
        "outputId": "5d06d464-ee63-4d51-e318-e73b194b72bf",
        "colab": {
          "base_uri": "https://localhost:8080/"
        }
      },
      "execution_count": 9,
      "outputs": [
        {
          "output_type": "stream",
          "name": "stdout",
          "text": [
            "6. Jumlah uang untuk anak yatim: Rp 114810.0\n"
          ]
        }
      ]
    },
    {
      "cell_type": "code",
      "source": [
        "# 7. Jumlah uang untuk kaum dhuafa\n",
        "uang_kaum_dhuafa = jumlah_sedekah * (1 - persentase_yatim)\n",
        "print(\"7. Jumlah uang untuk kaum dhuafa: Rp\", uang_kaum_dhuafa)"
      ],
      "metadata": {
        "colab": {
          "base_uri": "https://localhost:8080/"
        },
        "id": "xFPvQQCaQkDe",
        "outputId": "7bc9c630-e60e-4653-8435-204c77fb55c8"
      },
      "execution_count": 10,
      "outputs": [
        {
          "output_type": "stream",
          "name": "stdout",
          "text": [
            "7. Jumlah uang untuk kaum dhuafa: Rp 267890.0\n"
          ]
        }
      ]
    }
  ]
}